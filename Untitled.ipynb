{
 "cells": [
  {
   "cell_type": "code",
   "execution_count": 1,
   "id": "28b22552-9957-4fe8-a3a1-c9dd9864e806",
   "metadata": {},
   "outputs": [],
   "source": [
    "from rouge_score import rouge_scorer"
   ]
  },
  {
   "cell_type": "code",
   "execution_count": 2,
   "id": "fc9e0720-b984-4fde-acd5-cee2b8748ee3",
   "metadata": {},
   "outputs": [
    {
     "name": "stdout",
     "output_type": "stream",
     "text": [
      "rouge1: Score(precision=0.8333333333333334, recall=0.8333333333333334, fmeasure=0.8333333333333334)\n",
      "rouge2: Score(precision=0.6, recall=0.6, fmeasure=0.6)\n",
      "rougeL: Score(precision=0.8333333333333334, recall=0.8333333333333334, fmeasure=0.8333333333333334)\n",
      "CPU times: total: 0 ns\n",
      "Wall time: 0 ns\n"
     ]
    }
   ],
   "source": [
    "%%time\n",
    "# Sample texts\n",
    "reference_text = \"The cat sat on the mat.\"\n",
    "candidate_text = \"The cat lay on the mat.\"\n",
    "\n",
    "# Initialize the RougeScorer\n",
    "scorer = rouge_scorer.RougeScorer(['rouge1', 'rouge2', 'rougeL'], use_stemmer=True)\n",
    "\n",
    "# Calculate scores\n",
    "scores = scorer.score(reference_text, candidate_text)\n",
    "\n",
    "# Print the results\n",
    "for key in scores:\n",
    "    print(f'{key}: {scores[key]}')"
   ]
  },
  {
   "cell_type": "code",
   "execution_count": null,
   "id": "9107b790-a830-4053-bf0c-e1c2450b75f3",
   "metadata": {},
   "outputs": [],
   "source": []
  }
 ],
 "metadata": {
  "kernelspec": {
   "display_name": "Python 3 (ipykernel)",
   "language": "python",
   "name": "python3"
  },
  "language_info": {
   "codemirror_mode": {
    "name": "ipython",
    "version": 3
   },
   "file_extension": ".py",
   "mimetype": "text/x-python",
   "name": "python",
   "nbconvert_exporter": "python",
   "pygments_lexer": "ipython3",
   "version": "3.11.10"
  }
 },
 "nbformat": 4,
 "nbformat_minor": 5
}
