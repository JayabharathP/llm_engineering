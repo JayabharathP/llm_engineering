{
 "cells": [
  {
   "cell_type": "code",
   "execution_count": null,
   "id": "a633cf63",
   "metadata": {},
   "outputs": [],
   "source": [
    "# !pip install git+https://github.com/openai/swarm.git"
   ]
  },
  {
   "cell_type": "code",
   "execution_count": 4,
   "id": "194986a6-21cf-4037-9304-9983369be1c5",
   "metadata": {},
   "outputs": [],
   "source": [
    "# python\n",
    "import os\n",
    "from swarm import Agent, Swarm\n",
    "from openai import OpenAI\n",
    "\n",
    "client = Swarm(client=OpenAI(api_key=os.getenv('OPENAI_API_KEY')))\n",
    "\n",
    "agent_a = Agent(\n",
    "    name=\"Agent A\",\n",
    "    instructions=\"You are a general-purpose assistant.\",\n",
    "    functions=[]  # Add any callable functions here\n",
    ")"
   ]
  },
  {
   "cell_type": "code",
   "execution_count": 2,
   "id": "5bd409da-17e6-402a-b25d-c57a9c543dab",
   "metadata": {},
   "outputs": [],
   "source": [
    "# python\n",
    "agent_b = Agent(\n",
    "    name=\"Agent B\",\n",
    "    instructions=\"You only provide answers in haikus.\"\n",
    ")\n",
    "\n",
    "agent_a = Agent(\n",
    "    name=\"Agent A\",\n",
    "    instructions=\"Forward this task to Agent B.\",\n",
    "    functions=[lambda: agent_b]  # Hand off to agent_b\n",
    ")"
   ]
  },
  {
   "cell_type": "code",
   "execution_count": 5,
   "id": "7addc63a-206d-4999-b41b-494b9422bbdf",
   "metadata": {},
   "outputs": [],
   "source": [
    "# python\n",
    "context = {\"user_name\": \"John\"}\n",
    "\n",
    "response = client.run(\n",
    "    agent=agent_a,\n",
    "    messages=[{\"role\": \"user\", \"content\": \"Who am I speaking with?\"}],\n",
    "    context_variables=context\n",
    ")"
   ]
  },
  {
   "cell_type": "code",
   "execution_count": 6,
   "id": "b13b898e-4108-4b02-89fc-86924792f72d",
   "metadata": {},
   "outputs": [
    {
     "data": {
      "text/plain": [
       "Response(messages=[{'content': \"I'm an AI language model created by OpenAI, here to assist you with various questions and tasks. How can I help you today?\", 'refusal': None, 'role': 'assistant', 'audio': None, 'function_call': None, 'tool_calls': None, 'sender': 'Agent A'}], agent=Agent(name='Agent A', model='gpt-4o', instructions='You are a general-purpose assistant.', functions=[], tool_choice=None, parallel_tool_calls=True), context_variables={'user_name': 'John'})"
      ]
     },
     "execution_count": 6,
     "metadata": {},
     "output_type": "execute_result"
    }
   ],
   "source": [
    "response"
   ]
  },
  {
   "cell_type": "code",
   "execution_count": null,
   "id": "08bf1cdc",
   "metadata": {},
   "outputs": [],
   "source": []
  }
 ],
 "metadata": {
  "kernelspec": {
   "display_name": "Python 3 (ipykernel)",
   "language": "python",
   "name": "python3"
  },
  "language_info": {
   "codemirror_mode": {
    "name": "ipython",
    "version": 3
   },
   "file_extension": ".py",
   "mimetype": "text/x-python",
   "name": "python",
   "nbconvert_exporter": "python",
   "pygments_lexer": "ipython3",
   "version": "3.11.10"
  }
 },
 "nbformat": 4,
 "nbformat_minor": 5
}
